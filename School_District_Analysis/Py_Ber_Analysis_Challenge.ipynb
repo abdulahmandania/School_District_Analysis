{
 "cells": [
  {
   "cell_type": "code",
   "execution_count": 102,
   "id": "eae1419d",
   "metadata": {},
   "outputs": [],
   "source": [
    "import pandas as pd\n",
    "import os"
   ]
  },
  {
   "cell_type": "code",
   "execution_count": 103,
   "id": "cc32a8db",
   "metadata": {},
   "outputs": [
    {
     "data": {
      "text/html": [
       "<div>\n",
       "<style scoped>\n",
       "    .dataframe tbody tr th:only-of-type {\n",
       "        vertical-align: middle;\n",
       "    }\n",
       "\n",
       "    .dataframe tbody tr th {\n",
       "        vertical-align: top;\n",
       "    }\n",
       "\n",
       "    .dataframe thead th {\n",
       "        text-align: right;\n",
       "    }\n",
       "</style>\n",
       "<table border=\"1\" class=\"dataframe\">\n",
       "  <thead>\n",
       "    <tr style=\"text-align: right;\">\n",
       "      <th></th>\n",
       "      <th>student_id</th>\n",
       "      <th>student_name</th>\n",
       "      <th>grade</th>\n",
       "      <th>school_name</th>\n",
       "      <th>reading_score</th>\n",
       "      <th>math_score</th>\n",
       "      <th>school_type</th>\n",
       "      <th>school_budget</th>\n",
       "    </tr>\n",
       "  </thead>\n",
       "  <tbody>\n",
       "    <tr>\n",
       "      <th>0</th>\n",
       "      <td>103880842</td>\n",
       "      <td>Travis Martin</td>\n",
       "      <td>9th</td>\n",
       "      <td>Sullivan High School</td>\n",
       "      <td>59.0</td>\n",
       "      <td>88.2</td>\n",
       "      <td>Public</td>\n",
       "      <td>961125</td>\n",
       "    </tr>\n",
       "    <tr>\n",
       "      <th>1</th>\n",
       "      <td>45069750</td>\n",
       "      <td>Michael Brown</td>\n",
       "      <td>9th</td>\n",
       "      <td>Dixon High School</td>\n",
       "      <td>94.7</td>\n",
       "      <td>73.5</td>\n",
       "      <td>Charter</td>\n",
       "      <td>870334</td>\n",
       "    </tr>\n",
       "    <tr>\n",
       "      <th>2</th>\n",
       "      <td>45024902</td>\n",
       "      <td>Gabriela Lucero</td>\n",
       "      <td>9th</td>\n",
       "      <td>Wagner High School</td>\n",
       "      <td>89.0</td>\n",
       "      <td>70.4</td>\n",
       "      <td>Public</td>\n",
       "      <td>846745</td>\n",
       "    </tr>\n",
       "    <tr>\n",
       "      <th>3</th>\n",
       "      <td>62582498</td>\n",
       "      <td>Susan Richardson</td>\n",
       "      <td>9th</td>\n",
       "      <td>Silva High School</td>\n",
       "      <td>69.7</td>\n",
       "      <td>80.3</td>\n",
       "      <td>Public</td>\n",
       "      <td>991918</td>\n",
       "    </tr>\n",
       "    <tr>\n",
       "      <th>4</th>\n",
       "      <td>16437227</td>\n",
       "      <td>Sherry Davis</td>\n",
       "      <td>11th</td>\n",
       "      <td>Bowers High School</td>\n",
       "      <td>NaN</td>\n",
       "      <td>27.5</td>\n",
       "      <td>Public</td>\n",
       "      <td>848324</td>\n",
       "    </tr>\n",
       "  </tbody>\n",
       "</table>\n",
       "</div>"
      ],
      "text/plain": [
       "   student_id      student_name grade           school_name  reading_score  \\\n",
       "0   103880842     Travis Martin   9th  Sullivan High School           59.0   \n",
       "1    45069750     Michael Brown   9th     Dixon High School           94.7   \n",
       "2    45024902   Gabriela Lucero   9th    Wagner High School           89.0   \n",
       "3    62582498  Susan Richardson   9th     Silva High School           69.7   \n",
       "4    16437227      Sherry Davis  11th    Bowers High School            NaN   \n",
       "\n",
       "   math_score school_type  school_budget  \n",
       "0        88.2      Public         961125  \n",
       "1        73.5     Charter         870334  \n",
       "2        70.4      Public         846745  \n",
       "3        80.3      Public         991918  \n",
       "4        27.5      Public         848324  "
      ]
     },
     "execution_count": 103,
     "metadata": {},
     "output_type": "execute_result"
    }
   ],
   "source": [
    "student_data = os.path.join(\"/Users/colli/OneDrive/Desktop/new_full_student_data_.csv\")\n",
    "student_df = pd.read_csv(student_data)\n",
    "student_df.head()"
   ]
  },
  {
   "cell_type": "code",
   "execution_count": 104,
   "id": "e69f5aa2",
   "metadata": {},
   "outputs": [
    {
     "data": {
      "text/plain": [
       "0           Travis Martin\n",
       "1           Michael Brown\n",
       "2         Gabriela Lucero\n",
       "3        Susan Richardson\n",
       "4            Sherry Davis\n",
       "               ...       \n",
       "19509       Robert Sawyer\n",
       "19510        David Herman\n",
       "19511          Megan Gill\n",
       "19512          Lori Stone\n",
       "19513         Anna Jensen\n",
       "Name: student_name, Length: 19514, dtype: object"
      ]
     },
     "execution_count": 104,
     "metadata": {},
     "output_type": "execute_result"
    }
   ],
   "source": [
    "student_df[\"student_name\"]"
   ]
  },
  {
   "cell_type": "code",
   "execution_count": 105,
   "id": "3d017126",
   "metadata": {},
   "outputs": [
    {
     "data": {
      "text/plain": [
       "student_id          0\n",
       "student_name        0\n",
       "grade               0\n",
       "school_name         0\n",
       "reading_score    1968\n",
       "math_score        982\n",
       "school_type         0\n",
       "school_budget       0\n",
       "dtype: int64"
      ]
     },
     "execution_count": 105,
     "metadata": {},
     "output_type": "execute_result"
    }
   ],
   "source": [
    "student_df.isna().sum()"
   ]
  },
  {
   "cell_type": "code",
   "execution_count": 106,
   "id": "2143387e",
   "metadata": {},
   "outputs": [
    {
     "data": {
      "text/plain": [
       "student_id       0\n",
       "student_name     0\n",
       "grade            0\n",
       "school_name      0\n",
       "reading_score    0\n",
       "math_score       0\n",
       "school_type      0\n",
       "school_budget    0\n",
       "dtype: int64"
      ]
     },
     "execution_count": 106,
     "metadata": {},
     "output_type": "execute_result"
    }
   ],
   "source": [
    "student_df = student_df.dropna()\n",
    "student_df.isna().sum()"
   ]
  },
  {
   "cell_type": "code",
   "execution_count": 107,
   "id": "b01b2c98",
   "metadata": {},
   "outputs": [
    {
     "data": {
      "text/plain": [
       "1836"
      ]
     },
     "execution_count": 107,
     "metadata": {},
     "output_type": "execute_result"
    }
   ],
   "source": [
    "student_df.duplicated().sum()"
   ]
  },
  {
   "cell_type": "code",
   "execution_count": 108,
   "id": "7bb37b22",
   "metadata": {},
   "outputs": [
    {
     "data": {
      "text/plain": [
       "0"
      ]
     },
     "execution_count": 108,
     "metadata": {},
     "output_type": "execute_result"
    }
   ],
   "source": [
    "student_df = student_df.drop_duplicates()\n",
    "student_df.duplicated().sum()"
   ]
  },
  {
   "cell_type": "code",
   "execution_count": 109,
   "id": "1ba67e2c",
   "metadata": {},
   "outputs": [
    {
     "data": {
      "text/plain": [
       "student_id         int64\n",
       "student_name      object\n",
       "grade             object\n",
       "school_name       object\n",
       "reading_score    float64\n",
       "math_score       float64\n",
       "school_type       object\n",
       "school_budget      int64\n",
       "dtype: object"
      ]
     },
     "execution_count": 109,
     "metadata": {},
     "output_type": "execute_result"
    }
   ],
   "source": [
    "student_df.dtypes"
   ]
  },
  {
   "cell_type": "code",
   "execution_count": 110,
   "id": "c7accf14",
   "metadata": {},
   "outputs": [
    {
     "data": {
      "text/plain": [
       "0         9th\n",
       "1         9th\n",
       "2         9th\n",
       "3         9th\n",
       "5         9th\n",
       "         ... \n",
       "19508    10th\n",
       "19509    12th\n",
       "19511    11th\n",
       "19512    11th\n",
       "19513    12th\n",
       "Name: grade, Length: 14831, dtype: object"
      ]
     },
     "execution_count": 110,
     "metadata": {},
     "output_type": "execute_result"
    }
   ],
   "source": [
    "student_df['grade']"
   ]
  },
  {
   "cell_type": "code",
   "execution_count": 111,
   "id": "87778db5",
   "metadata": {},
   "outputs": [
    {
     "data": {
      "text/plain": [
       "0         9\n",
       "1         9\n",
       "2         9\n",
       "3         9\n",
       "5         9\n",
       "         ..\n",
       "19508    10\n",
       "19509    12\n",
       "19511    11\n",
       "19512    11\n",
       "19513    12\n",
       "Name: grade, Length: 14831, dtype: object"
      ]
     },
     "execution_count": 111,
     "metadata": {},
     "output_type": "execute_result"
    }
   ],
   "source": [
    "student_df['grade'] = student_df['grade'].str.replace('th', '')\n",
    "student_df['grade']"
   ]
  },
  {
   "cell_type": "code",
   "execution_count": 112,
   "id": "2e186e30",
   "metadata": {},
   "outputs": [
    {
     "data": {
      "text/plain": [
       "student_id         int64\n",
       "student_name      object\n",
       "grade              int32\n",
       "school_name       object\n",
       "reading_score    float64\n",
       "math_score       float64\n",
       "school_type       object\n",
       "school_budget      int64\n",
       "dtype: object"
      ]
     },
     "execution_count": 112,
     "metadata": {},
     "output_type": "execute_result"
    }
   ],
   "source": [
    "student_df['grade'] = student_df['grade'].astype(int)\n",
    "student_df.dtypes"
   ]
  },
  {
   "cell_type": "code",
   "execution_count": 113,
   "id": "51e27e58",
   "metadata": {},
   "outputs": [
    {
     "data": {
      "text/html": [
       "<div>\n",
       "<style scoped>\n",
       "    .dataframe tbody tr th:only-of-type {\n",
       "        vertical-align: middle;\n",
       "    }\n",
       "\n",
       "    .dataframe tbody tr th {\n",
       "        vertical-align: top;\n",
       "    }\n",
       "\n",
       "    .dataframe thead th {\n",
       "        text-align: right;\n",
       "    }\n",
       "</style>\n",
       "<table border=\"1\" class=\"dataframe\">\n",
       "  <thead>\n",
       "    <tr style=\"text-align: right;\">\n",
       "      <th></th>\n",
       "      <th>student_id</th>\n",
       "      <th>student_name</th>\n",
       "      <th>grade</th>\n",
       "      <th>school_name</th>\n",
       "      <th>reading_score</th>\n",
       "      <th>math_score</th>\n",
       "      <th>school_type</th>\n",
       "      <th>school_budget</th>\n",
       "    </tr>\n",
       "  </thead>\n",
       "  <tbody>\n",
       "    <tr>\n",
       "      <th>0</th>\n",
       "      <td>103880842</td>\n",
       "      <td>Travis Martin</td>\n",
       "      <td>9</td>\n",
       "      <td>Sullivan High School</td>\n",
       "      <td>59.0</td>\n",
       "      <td>88.2</td>\n",
       "      <td>Public</td>\n",
       "      <td>961125</td>\n",
       "    </tr>\n",
       "    <tr>\n",
       "      <th>1</th>\n",
       "      <td>45069750</td>\n",
       "      <td>Michael Brown</td>\n",
       "      <td>9</td>\n",
       "      <td>Dixon High School</td>\n",
       "      <td>94.7</td>\n",
       "      <td>73.5</td>\n",
       "      <td>Charter</td>\n",
       "      <td>870334</td>\n",
       "    </tr>\n",
       "    <tr>\n",
       "      <th>2</th>\n",
       "      <td>45024902</td>\n",
       "      <td>Gabriela Lucero</td>\n",
       "      <td>9</td>\n",
       "      <td>Wagner High School</td>\n",
       "      <td>89.0</td>\n",
       "      <td>70.4</td>\n",
       "      <td>Public</td>\n",
       "      <td>846745</td>\n",
       "    </tr>\n",
       "    <tr>\n",
       "      <th>3</th>\n",
       "      <td>62582498</td>\n",
       "      <td>Susan Richardson</td>\n",
       "      <td>9</td>\n",
       "      <td>Silva High School</td>\n",
       "      <td>69.7</td>\n",
       "      <td>80.3</td>\n",
       "      <td>Public</td>\n",
       "      <td>991918</td>\n",
       "    </tr>\n",
       "    <tr>\n",
       "      <th>5</th>\n",
       "      <td>74579444</td>\n",
       "      <td>Cynthia Johnson</td>\n",
       "      <td>9</td>\n",
       "      <td>Montgomery High School</td>\n",
       "      <td>63.5</td>\n",
       "      <td>76.9</td>\n",
       "      <td>Charter</td>\n",
       "      <td>893368</td>\n",
       "    </tr>\n",
       "  </tbody>\n",
       "</table>\n",
       "</div>"
      ],
      "text/plain": [
       "   student_id      student_name  grade             school_name  reading_score  \\\n",
       "0   103880842     Travis Martin      9    Sullivan High School           59.0   \n",
       "1    45069750     Michael Brown      9       Dixon High School           94.7   \n",
       "2    45024902   Gabriela Lucero      9      Wagner High School           89.0   \n",
       "3    62582498  Susan Richardson      9       Silva High School           69.7   \n",
       "5    74579444   Cynthia Johnson      9  Montgomery High School           63.5   \n",
       "\n",
       "   math_score school_type  school_budget  \n",
       "0        88.2      Public         961125  \n",
       "1        73.5     Charter         870334  \n",
       "2        70.4      Public         846745  \n",
       "3        80.3      Public         991918  \n",
       "5        76.9     Charter         893368  "
      ]
     },
     "execution_count": 113,
     "metadata": {},
     "output_type": "execute_result"
    }
   ],
   "source": [
    "student_df.head()"
   ]
  },
  {
   "cell_type": "code",
   "execution_count": 114,
   "id": "3d05e1f0",
   "metadata": {},
   "outputs": [
    {
     "data": {
      "text/plain": [
       "64.67573326141189"
      ]
     },
     "execution_count": 114,
     "metadata": {},
     "output_type": "execute_result"
    }
   ],
   "source": [
    "student_df['math_score'].mean()"
   ]
  },
  {
   "cell_type": "code",
   "execution_count": 115,
   "id": "395bcae5",
   "metadata": {},
   "outputs": [
    {
     "name": "stdout",
     "output_type": "stream",
     "text": [
      "10.5\n"
     ]
    }
   ],
   "source": [
    "min_reading_score = student_df['reading_score'].min()\n",
    "print(min_reading_score)"
   ]
  },
  {
   "cell_type": "code",
   "execution_count": 116,
   "id": "f7f5c4a4",
   "metadata": {},
   "outputs": [
    {
     "data": {
      "text/html": [
       "<div>\n",
       "<style scoped>\n",
       "    .dataframe tbody tr th:only-of-type {\n",
       "        vertical-align: middle;\n",
       "    }\n",
       "\n",
       "    .dataframe tbody tr th {\n",
       "        vertical-align: top;\n",
       "    }\n",
       "\n",
       "    .dataframe thead th {\n",
       "        text-align: right;\n",
       "    }\n",
       "</style>\n",
       "<table border=\"1\" class=\"dataframe\">\n",
       "  <thead>\n",
       "    <tr style=\"text-align: right;\">\n",
       "      <th></th>\n",
       "      <th>grade</th>\n",
       "    </tr>\n",
       "  </thead>\n",
       "  <tbody>\n",
       "    <tr>\n",
       "      <th>0</th>\n",
       "      <td>9</td>\n",
       "    </tr>\n",
       "    <tr>\n",
       "      <th>1</th>\n",
       "      <td>9</td>\n",
       "    </tr>\n",
       "    <tr>\n",
       "      <th>2</th>\n",
       "      <td>9</td>\n",
       "    </tr>\n",
       "    <tr>\n",
       "      <th>3</th>\n",
       "      <td>9</td>\n",
       "    </tr>\n",
       "    <tr>\n",
       "      <th>5</th>\n",
       "      <td>9</td>\n",
       "    </tr>\n",
       "    <tr>\n",
       "      <th>...</th>\n",
       "      <td>...</td>\n",
       "    </tr>\n",
       "    <tr>\n",
       "      <th>19508</th>\n",
       "      <td>10</td>\n",
       "    </tr>\n",
       "    <tr>\n",
       "      <th>19509</th>\n",
       "      <td>12</td>\n",
       "    </tr>\n",
       "    <tr>\n",
       "      <th>19511</th>\n",
       "      <td>11</td>\n",
       "    </tr>\n",
       "    <tr>\n",
       "      <th>19512</th>\n",
       "      <td>11</td>\n",
       "    </tr>\n",
       "    <tr>\n",
       "      <th>19513</th>\n",
       "      <td>12</td>\n",
       "    </tr>\n",
       "  </tbody>\n",
       "</table>\n",
       "<p>14831 rows × 1 columns</p>\n",
       "</div>"
      ],
      "text/plain": [
       "       grade\n",
       "0          9\n",
       "1          9\n",
       "2          9\n",
       "3          9\n",
       "5          9\n",
       "...      ...\n",
       "19508     10\n",
       "19509     12\n",
       "19511     11\n",
       "19512     11\n",
       "19513     12\n",
       "\n",
       "[14831 rows x 1 columns]"
      ]
     },
     "execution_count": 116,
     "metadata": {},
     "output_type": "execute_result"
    }
   ],
   "source": [
    "student_df.loc[:,[\"grade\"]]"
   ]
  },
  {
   "cell_type": "code",
   "execution_count": 117,
   "id": "72c2116c",
   "metadata": {},
   "outputs": [
    {
     "data": {
      "text/html": [
       "<div>\n",
       "<style scoped>\n",
       "    .dataframe tbody tr th:only-of-type {\n",
       "        vertical-align: middle;\n",
       "    }\n",
       "\n",
       "    .dataframe tbody tr th {\n",
       "        vertical-align: top;\n",
       "    }\n",
       "\n",
       "    .dataframe thead th {\n",
       "        text-align: right;\n",
       "    }\n",
       "</style>\n",
       "<table border=\"1\" class=\"dataframe\">\n",
       "  <thead>\n",
       "    <tr style=\"text-align: right;\">\n",
       "      <th></th>\n",
       "      <th>school_name</th>\n",
       "      <th>reading_score</th>\n",
       "      <th>math_score</th>\n",
       "    </tr>\n",
       "  </thead>\n",
       "  <tbody>\n",
       "    <tr>\n",
       "      <th>0</th>\n",
       "      <td>Sullivan High School</td>\n",
       "      <td>59.0</td>\n",
       "      <td>88.2</td>\n",
       "    </tr>\n",
       "    <tr>\n",
       "      <th>1</th>\n",
       "      <td>Dixon High School</td>\n",
       "      <td>94.7</td>\n",
       "      <td>73.5</td>\n",
       "    </tr>\n",
       "    <tr>\n",
       "      <th>2</th>\n",
       "      <td>Wagner High School</td>\n",
       "      <td>89.0</td>\n",
       "      <td>70.4</td>\n",
       "    </tr>\n",
       "  </tbody>\n",
       "</table>\n",
       "</div>"
      ],
      "text/plain": [
       "            school_name  reading_score  math_score\n",
       "0  Sullivan High School           59.0        88.2\n",
       "1     Dixon High School           94.7        73.5\n",
       "2    Wagner High School           89.0        70.4"
      ]
     },
     "execution_count": 117,
     "metadata": {},
     "output_type": "execute_result"
    }
   ],
   "source": [
    "student_df.iloc[[0,1,2], [3,4,5]]"
   ]
  },
  {
   "cell_type": "code",
   "execution_count": 118,
   "id": "fd40f4ef",
   "metadata": {},
   "outputs": [
    {
     "data": {
      "text/html": [
       "<div>\n",
       "<style scoped>\n",
       "    .dataframe tbody tr th:only-of-type {\n",
       "        vertical-align: middle;\n",
       "    }\n",
       "\n",
       "    .dataframe tbody tr th {\n",
       "        vertical-align: top;\n",
       "    }\n",
       "\n",
       "    .dataframe thead th {\n",
       "        text-align: right;\n",
       "    }\n",
       "</style>\n",
       "<table border=\"1\" class=\"dataframe\">\n",
       "  <thead>\n",
       "    <tr style=\"text-align: right;\">\n",
       "      <th></th>\n",
       "      <th>student_id</th>\n",
       "      <th>grade</th>\n",
       "      <th>reading_score</th>\n",
       "      <th>math_score</th>\n",
       "      <th>school_budget</th>\n",
       "    </tr>\n",
       "  </thead>\n",
       "  <tbody>\n",
       "    <tr>\n",
       "      <th>count</th>\n",
       "      <td>4.132000e+03</td>\n",
       "      <td>4132.0</td>\n",
       "      <td>4132.000000</td>\n",
       "      <td>4132.000000</td>\n",
       "      <td>4132.000000</td>\n",
       "    </tr>\n",
       "    <tr>\n",
       "      <th>mean</th>\n",
       "      <td>6.979441e+07</td>\n",
       "      <td>9.0</td>\n",
       "      <td>69.236713</td>\n",
       "      <td>66.585624</td>\n",
       "      <td>898692.606002</td>\n",
       "    </tr>\n",
       "    <tr>\n",
       "      <th>std</th>\n",
       "      <td>3.470565e+07</td>\n",
       "      <td>0.0</td>\n",
       "      <td>15.277354</td>\n",
       "      <td>16.661533</td>\n",
       "      <td>54891.596611</td>\n",
       "    </tr>\n",
       "    <tr>\n",
       "      <th>min</th>\n",
       "      <td>1.000906e+07</td>\n",
       "      <td>9.0</td>\n",
       "      <td>17.900000</td>\n",
       "      <td>5.300000</td>\n",
       "      <td>817615.000000</td>\n",
       "    </tr>\n",
       "    <tr>\n",
       "      <th>25%</th>\n",
       "      <td>3.953848e+07</td>\n",
       "      <td>9.0</td>\n",
       "      <td>59.000000</td>\n",
       "      <td>56.000000</td>\n",
       "      <td>846745.000000</td>\n",
       "    </tr>\n",
       "    <tr>\n",
       "      <th>50%</th>\n",
       "      <td>6.984037e+07</td>\n",
       "      <td>9.0</td>\n",
       "      <td>70.050000</td>\n",
       "      <td>67.800000</td>\n",
       "      <td>893368.000000</td>\n",
       "    </tr>\n",
       "    <tr>\n",
       "      <th>75%</th>\n",
       "      <td>9.939504e+07</td>\n",
       "      <td>9.0</td>\n",
       "      <td>80.500000</td>\n",
       "      <td>78.500000</td>\n",
       "      <td>957299.000000</td>\n",
       "    </tr>\n",
       "    <tr>\n",
       "      <th>max</th>\n",
       "      <td>1.299997e+08</td>\n",
       "      <td>9.0</td>\n",
       "      <td>99.900000</td>\n",
       "      <td>100.000000</td>\n",
       "      <td>991918.000000</td>\n",
       "    </tr>\n",
       "  </tbody>\n",
       "</table>\n",
       "</div>"
      ],
      "text/plain": [
       "         student_id   grade  reading_score   math_score  school_budget\n",
       "count  4.132000e+03  4132.0    4132.000000  4132.000000    4132.000000\n",
       "mean   6.979441e+07     9.0      69.236713    66.585624  898692.606002\n",
       "std    3.470565e+07     0.0      15.277354    16.661533   54891.596611\n",
       "min    1.000906e+07     9.0      17.900000     5.300000  817615.000000\n",
       "25%    3.953848e+07     9.0      59.000000    56.000000  846745.000000\n",
       "50%    6.984037e+07     9.0      70.050000    67.800000  893368.000000\n",
       "75%    9.939504e+07     9.0      80.500000    78.500000  957299.000000\n",
       "max    1.299997e+08     9.0      99.900000   100.000000  991918.000000"
      ]
     },
     "execution_count": 118,
     "metadata": {},
     "output_type": "execute_result"
    }
   ],
   "source": [
    "grade_9_df = student_df.loc[student_df[\"grade\"] == 9]\n",
    "grade_9_df.describe()"
   ]
  },
  {
   "cell_type": "code",
   "execution_count": 119,
   "id": "a075ac73",
   "metadata": {},
   "outputs": [
    {
     "data": {
      "text/html": [
       "<div>\n",
       "<style scoped>\n",
       "    .dataframe tbody tr th:only-of-type {\n",
       "        vertical-align: middle;\n",
       "    }\n",
       "\n",
       "    .dataframe tbody tr th {\n",
       "        vertical-align: top;\n",
       "    }\n",
       "\n",
       "    .dataframe thead th {\n",
       "        text-align: right;\n",
       "    }\n",
       "</style>\n",
       "<table border=\"1\" class=\"dataframe\">\n",
       "  <thead>\n",
       "    <tr style=\"text-align: right;\">\n",
       "      <th></th>\n",
       "      <th>student_id</th>\n",
       "      <th>student_name</th>\n",
       "      <th>grade</th>\n",
       "      <th>school_name</th>\n",
       "      <th>reading_score</th>\n",
       "      <th>math_score</th>\n",
       "      <th>school_type</th>\n",
       "      <th>school_budget</th>\n",
       "    </tr>\n",
       "  </thead>\n",
       "  <tbody>\n",
       "    <tr>\n",
       "      <th>3706</th>\n",
       "      <td>81758630</td>\n",
       "      <td>Matthew Thomas</td>\n",
       "      <td>10</td>\n",
       "      <td>Dixon High School</td>\n",
       "      <td>10.5</td>\n",
       "      <td>58.4</td>\n",
       "      <td>Charter</td>\n",
       "      <td>870334</td>\n",
       "    </tr>\n",
       "  </tbody>\n",
       "</table>\n",
       "</div>"
      ],
      "text/plain": [
       "      student_id    student_name  grade        school_name  reading_score  \\\n",
       "3706    81758630  Matthew Thomas     10  Dixon High School           10.5   \n",
       "\n",
       "      math_score school_type  school_budget  \n",
       "3706        58.4     Charter         870334  "
      ]
     },
     "execution_count": 119,
     "metadata": {},
     "output_type": "execute_result"
    }
   ],
   "source": [
    "min_reading_row = student_df.loc[student_df[\"reading_score\"] == min_reading_score]\n",
    "min_reading_row"
   ]
  },
  {
   "cell_type": "code",
   "execution_count": 120,
   "id": "9b852f61",
   "metadata": {},
   "outputs": [
    {
     "data": {
      "text/html": [
       "<div>\n",
       "<style scoped>\n",
       "    .dataframe tbody tr th:only-of-type {\n",
       "        vertical-align: middle;\n",
       "    }\n",
       "\n",
       "    .dataframe tbody tr th {\n",
       "        vertical-align: top;\n",
       "    }\n",
       "\n",
       "    .dataframe thead th {\n",
       "        text-align: right;\n",
       "    }\n",
       "</style>\n",
       "<table border=\"1\" class=\"dataframe\">\n",
       "  <thead>\n",
       "    <tr style=\"text-align: right;\">\n",
       "      <th></th>\n",
       "      <th>school_name</th>\n",
       "      <th>reading_score</th>\n",
       "    </tr>\n",
       "  </thead>\n",
       "  <tbody>\n",
       "    <tr>\n",
       "      <th>45</th>\n",
       "      <td>Dixon High School</td>\n",
       "      <td>71.1</td>\n",
       "    </tr>\n",
       "    <tr>\n",
       "      <th>60</th>\n",
       "      <td>Dixon High School</td>\n",
       "      <td>59.5</td>\n",
       "    </tr>\n",
       "    <tr>\n",
       "      <th>69</th>\n",
       "      <td>Dixon High School</td>\n",
       "      <td>88.6</td>\n",
       "    </tr>\n",
       "    <tr>\n",
       "      <th>94</th>\n",
       "      <td>Dixon High School</td>\n",
       "      <td>81.5</td>\n",
       "    </tr>\n",
       "    <tr>\n",
       "      <th>100</th>\n",
       "      <td>Dixon High School</td>\n",
       "      <td>95.3</td>\n",
       "    </tr>\n",
       "    <tr>\n",
       "      <th>...</th>\n",
       "      <td>...</td>\n",
       "      <td>...</td>\n",
       "    </tr>\n",
       "    <tr>\n",
       "      <th>19283</th>\n",
       "      <td>Dixon High School</td>\n",
       "      <td>52.9</td>\n",
       "    </tr>\n",
       "    <tr>\n",
       "      <th>19306</th>\n",
       "      <td>Dixon High School</td>\n",
       "      <td>58.0</td>\n",
       "    </tr>\n",
       "    <tr>\n",
       "      <th>19344</th>\n",
       "      <td>Dixon High School</td>\n",
       "      <td>38.0</td>\n",
       "    </tr>\n",
       "    <tr>\n",
       "      <th>19368</th>\n",
       "      <td>Dixon High School</td>\n",
       "      <td>84.4</td>\n",
       "    </tr>\n",
       "    <tr>\n",
       "      <th>19445</th>\n",
       "      <td>Dixon High School</td>\n",
       "      <td>43.9</td>\n",
       "    </tr>\n",
       "  </tbody>\n",
       "</table>\n",
       "<p>569 rows × 2 columns</p>\n",
       "</div>"
      ],
      "text/plain": [
       "             school_name  reading_score\n",
       "45     Dixon High School           71.1\n",
       "60     Dixon High School           59.5\n",
       "69     Dixon High School           88.6\n",
       "94     Dixon High School           81.5\n",
       "100    Dixon High School           95.3\n",
       "...                  ...            ...\n",
       "19283  Dixon High School           52.9\n",
       "19306  Dixon High School           58.0\n",
       "19344  Dixon High School           38.0\n",
       "19368  Dixon High School           84.4\n",
       "19445  Dixon High School           43.9\n",
       "\n",
       "[569 rows x 2 columns]"
      ]
     },
     "execution_count": 120,
     "metadata": {},
     "output_type": "execute_result"
    }
   ],
   "source": [
    "# Use loc with conditionals to select all reading scores from 10th graders at Dixon High School.\n",
    "reading_scores = student_df.loc[\n",
    "    (student_df['grade'] == 10) & \n",
    "    (student_df['school_name'] == 'Dixon High School'),\n",
    "        ['school_name', \n",
    "        'reading_score']]\n",
    "reading_scores"
   ]
  },
  {
   "cell_type": "code",
   "execution_count": 121,
   "id": "5ac5ed81",
   "metadata": {},
   "outputs": [
    {
     "data": {
      "text/plain": [
       "74.90038089192188"
      ]
     },
     "execution_count": 121,
     "metadata": {},
     "output_type": "execute_result"
    }
   ],
   "source": [
    "# Find the mean reading score for all students in grades 11 and 12 combined.\n",
    "reading_scores_mean = student_df.loc[\n",
    "    (student_df['grade'] == 11 ) | (student_df['grade'] == 12),\n",
    "        'reading_score'].mean()\n",
    "reading_scores_mean"
   ]
  },
  {
   "cell_type": "code",
   "execution_count": 122,
   "id": "298e9e1c",
   "metadata": {
    "scrolled": true
   },
   "outputs": [
    {
     "data": {
      "text/html": [
       "<div>\n",
       "<style scoped>\n",
       "    .dataframe tbody tr th:only-of-type {\n",
       "        vertical-align: middle;\n",
       "    }\n",
       "\n",
       "    .dataframe tbody tr th {\n",
       "        vertical-align: top;\n",
       "    }\n",
       "\n",
       "    .dataframe thead th {\n",
       "        text-align: right;\n",
       "    }\n",
       "</style>\n",
       "<table border=\"1\" class=\"dataframe\">\n",
       "  <thead>\n",
       "    <tr style=\"text-align: right;\">\n",
       "      <th></th>\n",
       "      <th>math_score</th>\n",
       "      <th>reading_score</th>\n",
       "    </tr>\n",
       "    <tr>\n",
       "      <th>school_type</th>\n",
       "      <th></th>\n",
       "      <th></th>\n",
       "    </tr>\n",
       "  </thead>\n",
       "  <tbody>\n",
       "    <tr>\n",
       "      <th>Charter</th>\n",
       "      <td>66.761883</td>\n",
       "      <td>72.450603</td>\n",
       "    </tr>\n",
       "    <tr>\n",
       "      <th>Public</th>\n",
       "      <td>62.951576</td>\n",
       "      <td>72.281219</td>\n",
       "    </tr>\n",
       "  </tbody>\n",
       "</table>\n",
       "</div>"
      ],
      "text/plain": [
       "             math_score  reading_score\n",
       "school_type                           \n",
       "Charter       66.761883      72.450603\n",
       "Public        62.951576      72.281219"
      ]
     },
     "execution_count": 122,
     "metadata": {},
     "output_type": "execute_result"
    }
   ],
   "source": [
    "math_reading_school = student_df.groupby(by='school_type').mean()\n",
    "math_reading_school.loc[:, [\"math_score\", \"reading_score\"]]"
   ]
  },
  {
   "cell_type": "code",
   "execution_count": 123,
   "id": "61d80a34",
   "metadata": {},
   "outputs": [
    {
     "data": {
      "text/html": [
       "<div>\n",
       "<style scoped>\n",
       "    .dataframe tbody tr th:only-of-type {\n",
       "        vertical-align: middle;\n",
       "    }\n",
       "\n",
       "    .dataframe tbody tr th {\n",
       "        vertical-align: top;\n",
       "    }\n",
       "\n",
       "    .dataframe thead th {\n",
       "        text-align: right;\n",
       "    }\n",
       "</style>\n",
       "<table border=\"1\" class=\"dataframe\">\n",
       "  <thead>\n",
       "    <tr style=\"text-align: right;\">\n",
       "      <th></th>\n",
       "      <th>student_id</th>\n",
       "    </tr>\n",
       "    <tr>\n",
       "      <th>school_name</th>\n",
       "      <th></th>\n",
       "    </tr>\n",
       "  </thead>\n",
       "  <tbody>\n",
       "    <tr>\n",
       "      <th>Montgomery High School</th>\n",
       "      <td>2038</td>\n",
       "    </tr>\n",
       "    <tr>\n",
       "      <th>Green High School</th>\n",
       "      <td>1961</td>\n",
       "    </tr>\n",
       "    <tr>\n",
       "      <th>Dixon High School</th>\n",
       "      <td>1583</td>\n",
       "    </tr>\n",
       "    <tr>\n",
       "      <th>Wagner High School</th>\n",
       "      <td>1541</td>\n",
       "    </tr>\n",
       "    <tr>\n",
       "      <th>Silva High School</th>\n",
       "      <td>1109</td>\n",
       "    </tr>\n",
       "    <tr>\n",
       "      <th>Woods High School</th>\n",
       "      <td>1052</td>\n",
       "    </tr>\n",
       "    <tr>\n",
       "      <th>Sullivan High School</th>\n",
       "      <td>971</td>\n",
       "    </tr>\n",
       "    <tr>\n",
       "      <th>Turner High School</th>\n",
       "      <td>846</td>\n",
       "    </tr>\n",
       "    <tr>\n",
       "      <th>Bowers High School</th>\n",
       "      <td>803</td>\n",
       "    </tr>\n",
       "    <tr>\n",
       "      <th>Fisher High School</th>\n",
       "      <td>798</td>\n",
       "    </tr>\n",
       "    <tr>\n",
       "      <th>Richard High School</th>\n",
       "      <td>551</td>\n",
       "    </tr>\n",
       "    <tr>\n",
       "      <th>Campos High School</th>\n",
       "      <td>541</td>\n",
       "    </tr>\n",
       "    <tr>\n",
       "      <th>Odonnell High School</th>\n",
       "      <td>459</td>\n",
       "    </tr>\n",
       "    <tr>\n",
       "      <th>Campbell High School</th>\n",
       "      <td>407</td>\n",
       "    </tr>\n",
       "    <tr>\n",
       "      <th>Chang High School</th>\n",
       "      <td>171</td>\n",
       "    </tr>\n",
       "  </tbody>\n",
       "</table>\n",
       "</div>"
      ],
      "text/plain": [
       "                        student_id\n",
       "school_name                       \n",
       "Montgomery High School        2038\n",
       "Green High School             1961\n",
       "Dixon High School             1583\n",
       "Wagner High School            1541\n",
       "Silva High School             1109\n",
       "Woods High School             1052\n",
       "Sullivan High School           971\n",
       "Turner High School             846\n",
       "Bowers High School             803\n",
       "Fisher High School             798\n",
       "Richard High School            551\n",
       "Campos High School             541\n",
       "Odonnell High School           459\n",
       "Campbell High School           407\n",
       "Chang High School              171"
      ]
     },
     "execution_count": 123,
     "metadata": {},
     "output_type": "execute_result"
    }
   ],
   "source": [
    "student_count_by_school = student_df[['school_name', 'student_id']].groupby(by='school_name').count()\n",
    "student_count_by_school = student_count_by_school.sort_values('student_id', ascending=False)\n",
    "student_count_by_school"
   ]
  },
  {
   "cell_type": "code",
   "execution_count": 129,
   "id": "eba1fe80",
   "metadata": {},
   "outputs": [
    {
     "data": {
      "text/html": [
       "<div>\n",
       "<style scoped>\n",
       "    .dataframe tbody tr th:only-of-type {\n",
       "        vertical-align: middle;\n",
       "    }\n",
       "\n",
       "    .dataframe tbody tr th {\n",
       "        vertical-align: top;\n",
       "    }\n",
       "\n",
       "    .dataframe thead th {\n",
       "        text-align: right;\n",
       "    }\n",
       "</style>\n",
       "<table border=\"1\" class=\"dataframe\">\n",
       "  <thead>\n",
       "    <tr style=\"text-align: right;\">\n",
       "      <th></th>\n",
       "      <th></th>\n",
       "      <th>math_score</th>\n",
       "    </tr>\n",
       "    <tr>\n",
       "      <th>school_type</th>\n",
       "      <th>grade</th>\n",
       "      <th></th>\n",
       "    </tr>\n",
       "  </thead>\n",
       "  <tbody>\n",
       "    <tr>\n",
       "      <th rowspan=\"4\" valign=\"top\">Charter</th>\n",
       "      <th>9</th>\n",
       "      <td>70.077874</td>\n",
       "    </tr>\n",
       "    <tr>\n",
       "      <th>10</th>\n",
       "      <td>66.443206</td>\n",
       "    </tr>\n",
       "    <tr>\n",
       "      <th>11</th>\n",
       "      <td>68.024735</td>\n",
       "    </tr>\n",
       "    <tr>\n",
       "      <th>12</th>\n",
       "      <td>60.212121</td>\n",
       "    </tr>\n",
       "    <tr>\n",
       "      <th rowspan=\"4\" valign=\"top\">Public</th>\n",
       "      <th>9</th>\n",
       "      <td>63.771066</td>\n",
       "    </tr>\n",
       "    <tr>\n",
       "      <th>10</th>\n",
       "      <td>63.764121</td>\n",
       "    </tr>\n",
       "    <tr>\n",
       "      <th>11</th>\n",
       "      <td>59.314337</td>\n",
       "    </tr>\n",
       "    <tr>\n",
       "      <th>12</th>\n",
       "      <td>63.568319</td>\n",
       "    </tr>\n",
       "  </tbody>\n",
       "</table>\n",
       "</div>"
      ],
      "text/plain": [
       "                   math_score\n",
       "school_type grade            \n",
       "Charter     9       70.077874\n",
       "            10      66.443206\n",
       "            11      68.024735\n",
       "            12      60.212121\n",
       "Public      9       63.771066\n",
       "            10      63.764121\n",
       "            11      59.314337\n",
       "            12      63.568319"
      ]
     },
     "execution_count": 129,
     "metadata": {},
     "output_type": "execute_result"
    }
   ],
   "source": [
    "avg_math = student_df[['grade', 'math_score', 'school_type']].groupby(['school_type', 'grade']).mean()\n",
    "avg_math"
   ]
  },
  {
   "cell_type": "code",
   "execution_count": null,
   "id": "8d1f81ab",
   "metadata": {},
   "outputs": [],
   "source": []
  }
 ],
 "metadata": {
  "kernelspec": {
   "display_name": "PythonData",
   "language": "python",
   "name": "pythondata"
  },
  "language_info": {
   "codemirror_mode": {
    "name": "ipython",
    "version": 3
   },
   "file_extension": ".py",
   "mimetype": "text/x-python",
   "name": "python",
   "nbconvert_exporter": "python",
   "pygments_lexer": "ipython3",
   "version": "3.9.12"
  }
 },
 "nbformat": 4,
 "nbformat_minor": 5
}
